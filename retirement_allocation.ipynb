{
 "cells": [
  {
   "cell_type": "markdown",
   "metadata": {},
   "source": [
    "# Asset allocation for retirement accounts"
   ]
  },
  {
   "cell_type": "markdown",
   "metadata": {},
   "source": [
    "## Target allocation\n",
    "\n",
    "35% large cap\n",
    "\n",
    "20% foreign stocks\n",
    "\n",
    "20% small cap\n",
    "\n",
    "25% bonds\n"
   ]
  },
  {
   "cell_type": "code",
   "execution_count": 1,
   "metadata": {},
   "outputs": [],
   "source": [
    "from enum import Enum\n",
    "\n",
    "class Pct:\n",
    "    def __init__(self, name, pct):\n",
    "        self.name = name\n",
    "        self.pct = pct\n",
    "\n",
    "class StockType(Enum):\n",
    "    LARGE_CAP = Pct('Large cap', .35)\n",
    "    FOREIGN = Pct('Foreign', .20)\n",
    "    SMALL_CAP = Pct('Small cap', .20)\n",
    "    BONDS = Pct('Bonds', .25)\n",
    "    CASH = Pct('Cash', .0)\n",
    "    "
   ]
  },
  {
   "cell_type": "code",
   "execution_count": 2,
   "metadata": {},
   "outputs": [],
   "source": [
    "class Stock:\n",
    "    def __init__(self, ticker, stock_type, description):\n",
    "        self.ticker = ticker\n",
    "        self.stock_type = stock_type\n",
    "        self.description = description\n",
    "\n",
    "class Position:\n",
    "    def __init__(self, stock, quantity, price):\n",
    "        self.stock = stock\n",
    "        self.quantity = quantity\n",
    "        self.price = price\n",
    "        self.pct = 0.0"
   ]
  },
  {
   "cell_type": "code",
   "execution_count": 40,
   "metadata": {},
   "outputs": [],
   "source": [
    "class Portfolio:\n",
    "    def __init__(self, name):\n",
    "        self.name = name\n",
    "        self.positions = {}\n",
    "        \n",
    "    def add_position(self, p):\n",
    "        self.positions[p.stock.stock_type] = p\n",
    "        \n",
    "    def __calculate_percentages__(self):\n",
    "        self.total_value = 0\n",
    "        for k,v in self.positions.items():\n",
    "            self.total_value += v.quantity * v.price\n",
    "        for k,v in self.positions.items():\n",
    "            v.pct = (v.quantity * v.price) / self.total_value\n",
    "            \n",
    "    def show_actual_vs_target(self):\n",
    "        self.__calculate_percentages__()\n",
    "        print(\"Total portfolio value of {}: {:.2f}\".format(self.name, self.total_value))\n",
    "        for st in StockType:\n",
    "            try:\n",
    "                position = self.positions[st]\n",
    "                actual_pct = position.pct\n",
    "                target_pct = st.value.pct\n",
    "                print(\"Actual {} (in {}) - {:.4f}, target - {:.4f}\".format(st.value.name, position.stock.ticker, actual_pct, target_pct))\n",
    "                pct_adjustment = target_pct - actual_pct\n",
    "                num_shares_adjustment = self.total_value * pct_adjustment / position.price\n",
    "                if pct_adjustment > 0.0:\n",
    "                    print(\"    Buy {:.2f} shares of {}\".format(num_shares_adjustment, position.stock.ticker))\n",
    "                elif pct_adjustment < 0.0:\n",
    "                    print(\"    Sell {:.2f} shares of {}\".format(num_shares_adjustment * -1, position.stock.ticker))\n",
    "                else:\n",
    "                    print(\"    Nothing to adjust\")\n",
    "            except KeyError:\n",
    "                target_pct = st.value.pct\n",
    "                print(\"Actual {} - {:.4f}, target - {:.4f}\".format(st.value.name, .0, target_pct))\n",
    "                print(\"    Buy ${:.2f} worth of {}\".format(target_pct * self.total_value, st.value.name))"
   ]
  },
  {
   "cell_type": "code",
   "execution_count": 41,
   "metadata": {},
   "outputs": [],
   "source": [
    "dsum = Stock('DSUM', StockType.BONDS, 'Invesco Chinese Yuan Dim Sum Bond ETF')\n",
    "veu = Stock('VEU', StockType.FOREIGN, 'Vanguard ALLWRLD')\n",
    "voo = Stock('VOO', StockType.LARGE_CAP, 'Vanguard S&P 500 ETF')\n",
    "vtwg = Stock('VTWG', StockType.SMALL_CAP, 'Vanguard Russell 2000 Growth Index Fund ETF Shares')\n",
    "cash = Stock('Cash', StockType.CASH, 'Cash')\n",
    "angl = Stock('ANGL', StockType.BONDS, 'VanEck Vectors Fallen Angel High Yield Bond ETF')\n",
    "slyg = Stock('SLYG', StockType.SMALL_CAP, 'SPDR® S&P 600 Small Cap Growth ETF')\n",
    "spy = Stock('SPY', StockType.LARGE_CAP, 'SPDR® S&P 500 ETF')"
   ]
  },
  {
   "cell_type": "code",
   "execution_count": 42,
   "metadata": {},
   "outputs": [
    {
     "name": "stdout",
     "output_type": "stream",
     "text": [
      "Total portfolio value of Roth: 32003.46\n",
      "Actual Large cap (in VOO) - 0.3671, target - 0.3500\n",
      "    Sell 2.22 shares of VOO\n",
      "Actual Foreign (in VEU) - 0.1856, target - 0.2000\n",
      "    Buy 9.59 shares of VEU\n",
      "Actual Small cap (in VTWG) - 0.2008, target - 0.2000\n",
      "    Sell 0.19 shares of VTWG\n",
      "Actual Bonds (in DSUM) - 0.2319, target - 0.2500\n",
      "    Buy 27.13 shares of DSUM\n",
      "Actual Cash (in Cash) - 0.0146, target - 0.0000\n",
      "    Sell 1.00 shares of Cash\n"
     ]
    }
   ],
   "source": [
    "roth_portfolio = Portfolio(\"Roth\")\n",
    "roth_portfolio.add_position(Position(dsum, 348.319, 21.31))\n",
    "roth_portfolio.add_position(Position(veu, 123.453, 48.11))\n",
    "roth_portfolio.add_position(Position(voo, 47.648, 246.57))\n",
    "roth_portfolio.add_position(Position(vtwg, 48, 133.88))\n",
    "roth_portfolio.add_position(Position(cash, 1, 466.65))\n",
    "roth_portfolio.show_actual_vs_target()"
   ]
  },
  {
   "cell_type": "code",
   "execution_count": 43,
   "metadata": {},
   "outputs": [
    {
     "name": "stdout",
     "output_type": "stream",
     "text": [
      "Total portfolio value of IRA: 121878.16\n",
      "Actual Large cap (in SPY) - 0.0889, target - 0.3500\n",
      "    Buy 118.49 shares of SPY\n",
      "Actual Foreign (in VEU) - 0.1941, target - 0.2000\n",
      "    Buy 15.05 shares of VEU\n",
      "Actual Small cap (in SLYG) - 0.1938, target - 0.2000\n",
      "    Buy 12.71 shares of SLYG\n",
      "Actual Bonds (in ANGL) - 0.2525, target - 0.2500\n",
      "    Sell 11.31 shares of ANGL\n",
      "Actual Cash (in Cash) - 0.2707, target - 0.0000\n",
      "    Sell 1.00 shares of Cash\n"
     ]
    }
   ],
   "source": [
    "ira_portfolio = Portfolio(\"IRA\")\n",
    "ira_portfolio.add_position(Position(angl, 1125.774, 27.34))\n",
    "ira_portfolio.add_position(Position(slyg, 396.829, 59.52))\n",
    "ira_portfolio.add_position(Position(spy, 40.339, 268.58))\n",
    "ira_portfolio.add_position(Position(veu, 491.614, 48.11))\n",
    "ira_portfolio.add_position(Position(cash, 1, 32994.44))\n",
    "ira_portfolio.show_actual_vs_target()"
   ]
  }
 ],
 "metadata": {
  "kernelspec": {
   "display_name": "Python 3",
   "language": "python",
   "name": "python3"
  },
  "language_info": {
   "codemirror_mode": {
    "name": "ipython",
    "version": 3
   },
   "file_extension": ".py",
   "mimetype": "text/x-python",
   "name": "python",
   "nbconvert_exporter": "python",
   "pygments_lexer": "ipython3",
   "version": "3.6.6"
  }
 },
 "nbformat": 4,
 "nbformat_minor": 2
}
