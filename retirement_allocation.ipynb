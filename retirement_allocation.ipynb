{
 "cells": [
  {
   "cell_type": "markdown",
   "metadata": {},
   "source": [
    "# Asset allocation for retirement accounts"
   ]
  },
  {
   "cell_type": "markdown",
   "metadata": {},
   "source": [
    "## Target allocation\n",
    "\n",
    "35% large cap\n",
    "\n",
    "20% foreign stocks\n",
    "\n",
    "20% small cap\n",
    "\n",
    "25% bonds\n"
   ]
  },
  {
   "cell_type": "code",
   "execution_count": 73,
   "metadata": {},
   "outputs": [],
   "source": [
    "from enum import Enum\n",
    "\n",
    "class Pct:\n",
    "    def __init__(self, name, pct):\n",
    "        self.name = name\n",
    "        self.pct = pct\n",
    "\n",
    "class StockType(Enum):\n",
    "    LARGE_CAP = Pct('Large cap', .35)\n",
    "    FOREIGN = Pct('Foreign', .20)\n",
    "    SMALL_CAP = Pct('Small cap', .20)\n",
    "    BONDS = Pct('Bonds', .25)\n",
    "    CASH = Pct('Cash', .0)\n",
    "    "
   ]
  },
  {
   "cell_type": "code",
   "execution_count": 76,
   "metadata": {},
   "outputs": [],
   "source": [
    "class Stock:\n",
    "    def __init__(self, ticker, stock_type, description):\n",
    "        self.ticker = ticker\n",
    "        self.stock_type = stock_type\n",
    "        self.description = description\n",
    "\n",
    "class Position:\n",
    "    def __init__(self, stock, quantity, price):\n",
    "        self.stock = stock\n",
    "        self.quantity = quantity\n",
    "        self.price = price\n",
    "        self.pct = 0.0"
   ]
  },
  {
   "cell_type": "code",
   "execution_count": 147,
   "metadata": {},
   "outputs": [],
   "source": [
    "class Portfolio:\n",
    "    def __init__(self, name):\n",
    "        self.name = name\n",
    "        self.positions = {}\n",
    "        \n",
    "    def add_position(self, p):\n",
    "        self.positions[p.stock.stock_type] = p\n",
    "        \n",
    "    def __calculate_percentages__(self):\n",
    "        self.total_value = 0\n",
    "        for k,v in self.positions.items():\n",
    "            self.total_value += v.quantity * v.price\n",
    "        for k,v in self.positions.items():\n",
    "            v.pct = (v.quantity * v.price) / self.total_value\n",
    "            \n",
    "    def show_actual_vs_target(self):\n",
    "        self.__calculate_percentages__()\n",
    "        print(\"Total portfolio value of {}: {:.2f}\".format(self.name, self.total_value))\n",
    "        for st in StockType:\n",
    "            try:\n",
    "                position = self.positions[st]\n",
    "                actual_pct = position.pct\n",
    "                target_pct = st.value.pct\n",
    "                print(\"Actual {} (in {}) - {:.2f}, target - {:.2f}\".format(st.value.name, position.stock.ticker, actual_pct, target_pct))\n",
    "                pct_adjustment = target_pct / actual_pct\n",
    "                if pct_adjustment >= 1.0:\n",
    "                    buy_shares = int((pct_adjustment - 1.0) * position.quantity)\n",
    "                    print(\"    Buy {} shares of {}\".format(buy_shares, position.stock.ticker))\n",
    "                else:\n",
    "                    sell_shares = int(pct_adjustment * position.quantity)\n",
    "                    print(\"    Sell {} shares of {}\".format(sell_shares, position.stock.ticker))\n",
    "            except KeyError:\n",
    "                target_pct = st.value.pct\n",
    "                print(\"Actual {} - {:.2f}, target - {:.2f}\".format(st.value.name, .0, target_pct))\n",
    "                print(\"    Buy ${:.2f} worth of {}\".format(target_pct * self.total_value, st.value.name))"
   ]
  },
  {
   "cell_type": "code",
   "execution_count": 148,
   "metadata": {},
   "outputs": [],
   "source": [
    "voo = Stock('VOO', StockType.LARGE_CAP, 'Vanguard S&P 500 ETF')\n",
    "veu = Stock('VEU', StockType.FOREIGN, 'Vanguard ALLWRLD')\n",
    "spy = Stock('SPY', StockType.LARGE_CAP, 'SPDR S&P 500')\n",
    "cash = Stock('Cash', StockType.CASH, 'Cash')"
   ]
  },
  {
   "cell_type": "code",
   "execution_count": 149,
   "metadata": {},
   "outputs": [
    {
     "name": "stdout",
     "output_type": "stream",
     "text": [
      "Total portfolio value of Roth: 33717.01\n",
      "Actual Large cap (in VOO) - 0.29, target - 0.35\n",
      "    Buy 8 shares of VOO\n",
      "Actual Foreign (in VEU) - 0.17, target - 0.20\n",
      "    Buy 16 shares of VEU\n",
      "Actual Small cap - 0.00, target - 0.20\n",
      "    Buy $6743.40 worth of Small cap\n",
      "Actual Bonds - 0.00, target - 0.25\n",
      "    Buy $8429.25 worth of Bonds\n",
      "Actual Cash (in Cash) - 0.54, target - 0.00\n",
      "    Sell 0 shares of Cash\n"
     ]
    }
   ],
   "source": [
    "roth_portfolio = Portfolio(\"Roth\")\n",
    "roth_portfolio.add_position(Position(voo, 39, 248.41))\n",
    "roth_portfolio.add_position(Position(veu, 105, 55.32))\n",
    "roth_portfolio.add_position(Position(cash, 1, 18220.42))\n",
    "roth_portfolio.show_actual_vs_target()"
   ]
  },
  {
   "cell_type": "code",
   "execution_count": 150,
   "metadata": {},
   "outputs": [
    {
     "name": "stdout",
     "output_type": "stream",
     "text": [
      "Total portfolio value of IRA: 99735.97\n",
      "Actual Large cap (in SPY) - 0.82, target - 0.35\n",
      "    Sell 128 shares of SPY\n",
      "Actual Foreign (in VEU) - 0.05, target - 0.20\n",
      "    Buy 273 shares of VEU\n",
      "Actual Small cap - 0.00, target - 0.20\n",
      "    Buy $19947.19 worth of Small cap\n",
      "Actual Bonds - 0.00, target - 0.25\n",
      "    Buy $24933.99 worth of Bonds\n",
      "Actual Cash (in Cash) - 0.14, target - 0.00\n",
      "    Sell 0 shares of Cash\n"
     ]
    }
   ],
   "source": [
    "ira_portfolio = Portfolio(\"IRA\")\n",
    "ira_portfolio.add_position(Position(spy, 300, 271.20))\n",
    "ira_portfolio.add_position(Position(veu, 87, 55.32))\n",
    "ira_portfolio.add_position(Position(cash, 1, 13563.13))\n",
    "ira_portfolio.show_actual_vs_target()"
   ]
  },
  {
   "cell_type": "code",
   "execution_count": null,
   "metadata": {},
   "outputs": [],
   "source": []
  },
  {
   "cell_type": "code",
   "execution_count": null,
   "metadata": {},
   "outputs": [],
   "source": []
  }
 ],
 "metadata": {
  "kernelspec": {
   "display_name": "Python [conda env:py3-opencv]",
   "language": "python",
   "name": "conda-env-py3-opencv-py"
  },
  "language_info": {
   "codemirror_mode": {
    "name": "ipython",
    "version": 3
   },
   "file_extension": ".py",
   "mimetype": "text/x-python",
   "name": "python",
   "nbconvert_exporter": "python",
   "pygments_lexer": "ipython3",
   "version": "3.5.4"
  }
 },
 "nbformat": 4,
 "nbformat_minor": 2
}
